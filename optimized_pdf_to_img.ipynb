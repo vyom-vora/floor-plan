{
 "cells": [
  {
   "cell_type": "markdown",
   "id": "96008fc3",
   "metadata": {},
   "source": [
    "# Code to Load Images from pdf"
   ]
  },
  {
   "cell_type": "markdown",
   "id": "13884879",
   "metadata": {},
   "source": [
    "## Library Installation"
   ]
  },
  {
   "cell_type": "code",
   "execution_count": null,
   "id": "db61af98",
   "metadata": {},
   "outputs": [],
   "source": [
    "# pip install PyMuPDF Pillow"
   ]
  },
  {
   "cell_type": "markdown",
   "id": "d06f73b0",
   "metadata": {},
   "source": [
    "## Libraries"
   ]
  },
  {
   "cell_type": "code",
   "execution_count": 3,
   "id": "677b2454",
   "metadata": {},
   "outputs": [],
   "source": [
    "import re\n",
    "import os\n",
    "import fitz\n",
    "import time\n",
    "import io\n",
    "import zipfile\n",
    "from PIL import Image\n",
    "from pdf2image import convert_from_path\n",
    "from PyPDF3 import PdfFileWriter, PdfFileReader"
   ]
  },
  {
   "cell_type": "markdown",
   "id": "0224ddfa",
   "metadata": {},
   "source": [
    "## Unzip"
   ]
  },
  {
   "cell_type": "code",
   "execution_count": 12,
   "id": "85db6825",
   "metadata": {},
   "outputs": [],
   "source": [
    "# count = 0 \n",
    "# for filename in os.listdir(folder_path):  \n",
    "#     count += 1\n",
    "#     img = os.path.join(folder_path, filename)\n",
    "#     with zipfile.ZipFile(img, 'r') as zip_ref:\n",
    "#         target_address = \"Unziped/Drawings\"+str(count)\n",
    "#         zip_ref.extractall(target_address) \n"
   ]
  },
  {
   "cell_type": "markdown",
   "id": "3e6b3c56",
   "metadata": {},
   "source": [
    "## Function"
   ]
  },
  {
   "cell_type": "code",
   "execution_count": 9,
   "id": "9ae531bd",
   "metadata": {},
   "outputs": [],
   "source": [
    "def pdf2img(pdf_path):\n",
    "    \n",
    "    for filename in os.listdir(folder_path):  \n",
    "        img = os.path.join(folder_path, filename)\n",
    "    \n",
    "        if (re.findall(\"A-[0-9]\",img) or re.findall(\"A[0-9] Floor\",img)) and re.findall(\"Floor\",img):\n",
    "            if not os.path.exists(\"output\"):\n",
    "                os.mkdir('output')\n",
    "            output_folder_path='output/'\n",
    "            file_name = img.split('/')[-1].split('.')[0]\n",
    "\n",
    "            inputpdf = fitz.open(img)\n",
    "            maxPages = len(inputpdf)\n",
    "\n",
    "            if maxPages==1:\n",
    "                images = convert_from_path(img,dpi=200)\n",
    "                i = 1\n",
    "                images[0].save(output_folder_path + file_name + '.jpg', 'JPEG')\n",
    "\n",
    "            else:\n",
    "                i = 1\n",
    "                for page in range(1, maxPages, 10):\n",
    "                    pil_images = convert_from_path(img, dpi=200,\n",
    "                                                   first_page=page,\n",
    "                                                   last_page=min(page + 10 - 1, maxPages), fmt= 'jpg',\n",
    "                                                   thread_count=1, userpw=None,\n",
    "                                                   use_cropbox=True, strict=False)\n",
    "                    for image in pil_images:\n",
    "                        image.save(output_folder_path+ file_name+\"_\"+str(i) + '.jpg', 'JPEG')\n",
    "                        i += 1\n",
    "\n",
    "    return \"Process Completed\""
   ]
  },
  {
   "cell_type": "markdown",
   "id": "5fc0ca72",
   "metadata": {},
   "source": [
    "## Running the Function"
   ]
  },
  {
   "cell_type": "code",
   "execution_count": 10,
   "id": "096ae415",
   "metadata": {},
   "outputs": [],
   "source": [
    "folder = r\"/home/ad.rapidops.com/vyom.vora/pdf_to_img/Final Data/Unziped\"\n",
    "subfolders = [f.path for f in os.scandir(folder) if f.is_dir()]\n",
    "\n",
    "for sub in subfolders:\n",
    "    for f in os.listdir(sub):\n",
    "        folder_path = os.path.join(sub, f)\n",
    "        pdf2img(folder_path)"
   ]
  },
  {
   "cell_type": "code",
   "execution_count": null,
   "id": "81ecd853",
   "metadata": {},
   "outputs": [],
   "source": []
  }
 ],
 "metadata": {
  "kernelspec": {
   "display_name": "Python 3 (ipykernel)",
   "language": "python",
   "name": "python3"
  },
  "language_info": {
   "codemirror_mode": {
    "name": "ipython",
    "version": 3
   },
   "file_extension": ".py",
   "mimetype": "text/x-python",
   "name": "python",
   "nbconvert_exporter": "python",
   "pygments_lexer": "ipython3",
   "version": "3.9.12"
  }
 },
 "nbformat": 4,
 "nbformat_minor": 5
}
